{
 "cells": [
  {
   "cell_type": "markdown",
   "id": "cc87aa0b",
   "metadata": {},
   "source": [
    "## 예제2-1) 사람의 손글씨 데이터인 MNIST를 이용해 MLP 설계하기\n",
    "  \n",
    "  \n",
    "### 1. 모듈 임포트하기"
   ]
  },
  {
   "cell_type": "code",
   "execution_count": 1,
   "id": "a16774f9",
   "metadata": {},
   "outputs": [],
   "source": [
    "import numpy as np\n",
    "import matplotlib.pyplot as plt\n",
    "import torch\n",
    "import torch.nn as nn                           # (1)\n",
    "import torch.nn.functional as F                 # (2)\n",
    "from torchvision import transforms, datasets    # (3)"
   ]
  },
  {
   "cell_type": "markdown",
   "id": "46aaf426",
   "metadata": {},
   "source": [
    "(1) PyTorch 모듈 중 딥러닝, 즉 인공 신경망 모델을 설계할 때 필요한 함수를 모아 놓은 모듈  \n",
    "(2) torch.nn 모듈 중에서도 자주 이용되는 함수를 \"F\"라고 지정  \n",
    "(3) 컴퓨터 비전 연구 분야에서 자주 이요하는 'torchvision' 모듈 내 'transforms', 'datasets'함수 임포트"
   ]
  },
  {
   "cell_type": "markdown",
   "id": "c672491a",
   "metadata": {},
   "source": [
    "### 2. 딥러닝 모델을 설계할 때 활용하는 장비 확인"
   ]
  },
  {
   "cell_type": "code",
   "execution_count": 2,
   "id": "0bfa835c",
   "metadata": {},
   "outputs": [
    {
     "name": "stdout",
     "output_type": "stream",
     "text": [
      "Using PyTorch version :  1.9.0  Device :  cpu\n"
     ]
    },
    {
     "name": "stderr",
     "output_type": "stream",
     "text": [
      "/home/nyongja/anaconda3/envs/pytorch_study/lib/python3.7/site-packages/torch/cuda/__init__.py:52: UserWarning: CUDA initialization: Unexpected error from cudaGetDeviceCount(). Did you run some cuda functions before calling NumCudaDevices() that might have already set an error? Error 804: forward compatibility was attempted on non supported HW (Triggered internally at  /opt/conda/conda-bld/pytorch_1623448224956/work/c10/cuda/CUDAFunctions.cpp:115.)\n",
      "  return torch._C._cuda_getDeviceCount() > 0\n"
     ]
    }
   ],
   "source": [
    "if torch.cuda.is_available() :\n",
    "    DEVICE = torch.device('cuda')\n",
    "else :\n",
    "    DEVICE = torch.device('cpu')\n",
    "    \n",
    "print('Using PyTorch version : ', torch.__version__, ' Device : ', DEVICE)"
   ]
  },
  {
   "cell_type": "markdown",
   "id": "6a3ff346",
   "metadata": {},
   "source": [
    "파이토치 프레임워크를 이용해 딥러닝 설계 / 구성 시 파라미터 값을 업데이트 할 때 이용할 장비를 선택할 수 있음.  \n",
    "GPU 사용 시 계산 속도가 빨라 파라미터 값을 빠르게 업데이트 할 수 있음."
   ]
  },
  {
   "cell_type": "code",
   "execution_count": 3,
   "id": "1f4107b6",
   "metadata": {},
   "outputs": [],
   "source": [
    "BATCH_SIZE = 32    # (1)\n",
    "EPOCHS = 10        # (2)"
   ]
  },
  {
   "cell_type": "markdown",
   "id": "601ec503",
   "metadata": {},
   "source": [
    "파이썬 코드 내 하이퍼파라미터는 보통 영어 대문자로 표기.  \n",
    "\n",
    "(1) BATCH_SIZE : MLP 모델을 학습할 때 필요한 데이터 개수의 단위.  Mini-Batch 1개 단위에 대해 데이터가 32개로 구성돼 있는 것을 의미함. 1개의 mini-batch를 이용해 학습하는 횟수를 'iteration', 전체 데이터를 이용해 학습을 진행한 횟수를 'epoch'이라고 함. 예를 들어, 전체 데이터가 1만개이고, 1000개 데이터를 이용해 1개의 mini-batch를 구성한다면 1epoch 당 10회의 iteration이 발생함.  \n",
    "(2) EPOCHS : mini-batch 1개 단위로 back propagation을 이용해 MLP의 가중값을 업데이트. epoch은 존재하고 있는 mini-batch를 전부 이용하는 횟수를 의미"
   ]
  },
  {
   "cell_type": "markdown",
   "id": "1bc9a97c",
   "metadata": {},
   "source": [
    "### 3. MNIST 데이터 다운로드(Train set, Test set 분리하기)"
   ]
  },
  {
   "cell_type": "code",
   "execution_count": 5,
   "id": "1796c891",
   "metadata": {},
   "outputs": [
    {
     "name": "stderr",
     "output_type": "stream",
     "text": [
      "/home/nyongja/anaconda3/envs/pytorch_study/lib/python3.7/site-packages/torchvision/datasets/mnist.py:498: UserWarning: The given NumPy array is not writeable, and PyTorch does not support non-writeable tensors. This means you can write to the underlying (supposedly non-writeable) NumPy array using the tensor. You may want to copy the array to protect its data or make it writeable before converting it to a tensor. This type of warning will be suppressed for the rest of this program. (Triggered internally at  /opt/conda/conda-bld/pytorch_1623448224956/work/torch/csrc/utils/tensor_numpy.cpp:180.)\n",
      "  return torch.from_numpy(parsed.astype(m[2], copy=False)).view(*s)\n"
     ]
    }
   ],
   "source": [
    "train_dataset = datasets.MNIST(root = \"../data/MNIST\",                 #(1)\n",
    "                              train = True,\n",
    "                              download = True,\n",
    "                              transform = transforms.ToTensor())\n",
    "test_dataset = datasets.MNIST(root = \"../data/MNIST\",                  #(2)\n",
    "                              train = False,\n",
    "                              transform = transforms.ToTensor())\n",
    "train_loader = torch.utils.data.DataLoader(dataset = train_dataset,    #(3)\n",
    "                                          batch_size = BATCH_SIZE,\n",
    "                                          shuffle = True)\n",
    "test_loader = torch.utils.data.DataLoader(dataset = test_dataset,     #(4)\n",
    "                                          batch_size = BATCH_SIZE,\n",
    "                                          shuffle = False)"
   ]
  },
  {
   "cell_type": "markdown",
   "id": "0de37675",
   "metadata": {},
   "source": [
    "흔히 데이터를 외부에서 파이썬으로 불러와 이용하며 pandas module로 처리함.  \n",
    "이외에도 'PyTorch'에서 연구용으로 자주 이용하는 데이터를 쉽게 불러올 수 있도록 구현되어 있음.  \n",
    "\n",
    "MLP 모델 학습하기 위해 이용하는 학습용 데이터셋과 학습이 진행된 후 성능 검증을 위한 검증용 데이터셋을 따로 분리해 설정.  \n",
    "(1), (2) MNIST 데이터셋을 다운로드.  \n",
    "- root : 데이터가 저장될 장소  \n",
    "- train : 대상 데이터가 학습용인지 검증용인지 설정  \n",
    "- download : 데이터를 다운로드해서 사용할 것인지\n",
    "- transform : 데이터를 다운로드할 때, 이미지 데이터에 대한 기본적인 전처리를 동시에 진행. 'ToTensor()'메서드를 이용해 'tensor'형태로 데이터를 변경해주며, 한 픽셀은 0\\~255 범위 스칼라 값으로 구성돼 있는데 이를 0\\~1 범위로 정규화 과정을 진행해줌. MLP 모델이 포함된 인공 신경망 모델은 input 데이터 값의 크기가 커질수록 불안정하거나 과적합되는 방향으로 학습이 진행될 우려가 있으므로 정규화 과정을 이용해 input으로 이용하는 것을 권장함. \n",
    "\n",
    "\n",
    "(3), (4) 다운로드한 데이터셋을 mini-batch 단위로 분리해 지정함. 이미지 데이터 1개는 각각을 이용해 MLP 모델을 학습시키는 것이 아니라 이미지 데이터를 batch size만큼, 즉 32개만큼 묶어 1개의 mini-batch를 구성하는 것을 'DataLoader'함수를 이용해 진행할 수 있음.    \n",
    "- dataset : Mini-Batch 단위로 할당하고자 하는 데이터셋을 지정. 'train_dataset'을 이용해 학습을 진행하는 'DataLoader'를 'train_loader', 'test_dataset'을 'test_loader'로 설정\n",
    "- batch_size : Mini-batch 1개 단위를 구성하는 데이터의 개수 지정. \n",
    "- shuffle : 데이터의 순서를 섞고자 할때. MLP 모델이 학습 진행할 때 Label 정보의 순서를 암기해 학습을 진행할 수 있음. 즉, 특정 Label에 매칭된 이미지 데이터의 특징을 보고 학습하는 것이 아니라 틀정 이미지 데이터에 매칭된 Label 값만을 집중적으로 학습하는, 즉 잘못된 방향으로 학습하는 것을 방지하기 위해 데이터 순서를 섞는 과정."
   ]
  },
  {
   "cell_type": "markdown",
   "id": "e24a27dc",
   "metadata": {},
   "source": [
    "### 4. 데이터 확인하기(1)"
   ]
  },
  {
   "cell_type": "code",
   "execution_count": 6,
   "id": "4aa6027b",
   "metadata": {},
   "outputs": [
    {
     "name": "stdout",
     "output_type": "stream",
     "text": [
      "X_train :  torch.Size([32, 1, 28, 28]) type :  torch.FloatTensor\n",
      "y_train :  torch.Size([32]) type :  torch.LongTensor\n"
     ]
    }
   ],
   "source": [
    "for (X_train, y_train) in train_loader :\n",
    "    print('X_train : ', X_train.size(), 'type : ', X_train.type())\n",
    "    print('y_train : ', y_train.size(), 'type : ', y_train.type())\n",
    "    break"
   ]
  },
  {
   "cell_type": "markdown",
   "id": "9185bfe3",
   "metadata": {},
   "source": [
    "다운로드한 후 mini-batch 단위로 할당한 데이터의 개수와 형태를 확인.  \n",
    "- X_train : 32개의 이미지 데이터가 1개의 Mini-Batch를 구성하고 있고 가로 28개, 세로 28개의 픽셀로 구성돼 있으며 채널이 1이므로 그레이스케일로 이뤄진, 즉 흑백 이미지 데이터라는 것을 확인할 수 있음. \n",
    "- y_train : 32개의 이미지 데이터 각각에 label 값이 1개 존재하므로 32개의 값을 갖고 있다는 것을 확인할 수 있음."
   ]
  },
  {
   "cell_type": "markdown",
   "id": "867a8b93",
   "metadata": {},
   "source": [
    "### 5. 데이터 확인하기(2)"
   ]
  },
  {
   "cell_type": "code",
   "execution_count": 7,
   "id": "b20c503b",
   "metadata": {},
   "outputs": [
    {
     "data": {
      "image/png": "[encoded data removed]",
      "text/plain": [
       "<Figure size 720x72 with 10 Axes>"
      ]
     },
     "metadata": {
      "needs_background": "light"
     },
     "output_type": "display_data"
    }
   ],
   "source": [
    "pltsize = 1\n",
    "plt.figure(figsize=(10 * pltsize, pltsize))\n",
    "for i in range(10) :\n",
    "    plt.subplot(1, 10, i + 1)\n",
    "    plt.axis('off')\n",
    "    plt.imshow(X_train[i, :, :, :].numpy().reshape(28, 28), cmap = \"gray_r\")\n",
    "    plt.title('Class : ' + str(y_train[i].item()))"
   ]
  },
  {
   "cell_type": "markdown",
   "id": "ac0de531",
   "metadata": {},
   "source": [
    "### 6. MLP(Multi Layer Perceptron) 모델 설계하기"
   ]
  },
  {
   "cell_type": "code",
   "execution_count": 8,
   "id": "6a003d08",
   "metadata": {},
   "outputs": [],
   "source": [
    "class Net(nn.Module) :                        #(1)\n",
    "    def __init__(self) :                      #(2)\n",
    "        super(Net, self).__init__()           #(3)\n",
    "        self.fc1 = nn.Linear(28 * 28, 512)    #(4)\n",
    "        self.fc2 = nn.Linear(512, 256)        #(5)\n",
    "        self.fc3 = nn.Linear(256, 10)         #(6)\n",
    "        \n",
    "    def forward(self, x) :                    #(7)\n",
    "        x = x.view(-1, 28 * 28)               #(8)\n",
    "        x = self.fc1(x)                       #(9)\n",
    "        x = F.sigmoid(x)                      #(10)\n",
    "        x = self.fc2(x)                       #(11)\n",
    "        x = F.sigmoid(x)                      #(12)\n",
    "        x = self.fc3(x)                       #(13)\n",
    "        x = F.log_softmax(x, dim = 1)         #(14)\n",
    "        return x                              #(15)"
   ]
  },
  {
   "cell_type": "markdown",
   "id": "1a9951b1",
   "metadata": {},
   "source": [
    "torch 모듈을 이용해 본격적으로 MLP를 설계하는 단계.  \n",
    "(1) PyTorch Module 내에 딥러닝 모델 관련 기본 함수를 포함하고 있는 nn.Module 클래스를 상속받는 Net 클래스를 정의. nn.Module 클래스를 상속받았을 때 nn.Module 클래스가 이용할 수 있는 함수를 그대로 이용할 수 있기 때문에 새로운 딥러닝 모델을 설계할 때 자주 이용.  \n",
    "(2) Net 클래스의 인스턴스를 생성했을 때 지니게 되는 성질을 정의해주는 메서드.  \n",
    "(3) nn.Module 내에 있는 메서드를 상속받아 이용.  \n",
    "(4) 첫 번째 Fully Connected Layer 정의. MNIST 데이터를 Input으로 사용하기 위해 28*28*1(가로 픽셀 수 * 세로 픽셀 수 * 채널 수) 크기의 노드 수를 설정한 후 두 번째 Fully Connected Layer의 노드 수를 512개로 설정할 것이므로 output의 노드 수는 512개로 설정.  \n",
    "(5) 두 번째 Fully Connected Layer 정의. \n",
    "(6) 세 번째 Fully Connected Layer 정의. 0부터 9까지의 총 10가지 클래스를 표현하기 위한 Label 값은 원-핫 인코딩으로 표현. MLP 모델의 Output 값과 Loss를 계산하려면 이에 맞는 크기의 벡터를 계산해야 함. 따라서 Output 노드 수를 10개로 정의.  \n",
    "(7) Net 클래스를 이용해 설계한 MLP 모델의 Forward Propagation 정의. 즉, 설계한 MLP 모델에 데이터를 입력했을 때 Output을 계산하기까지의 과정을 나열한 것을 의미.  \n",
    "(8) MLP 모델은 1차원의 벡터 값을 입력으로 받을 수 있음. 하지만 MNIST 이미지 데이터는 크기가 28\\*28인 2차원 데이터. 따라서 2차원 데이터를 1차원 데이터로 변환하려면 View 메서드를 이용해 784 크기의 1차원 데이터로 변환해 진행해야 함. 이를 '2차원의 데이터를 1차원으로 펼친다'라고 표현하며 'Flatten한다'라고 표현함.  \n",
    "(9) 첫 번째 Fully Connected Layer에 1차원으로 펼친 이미지 데이터를 통과시킴\n",
    "(10) PyTorch Module 중 인공 신경망 설계에 유용한 함수를 모아 놓은 torch.nn.functional 내에 정의된 비선형 함수는 sigmoid()를 이용해 두 번째 Fully Connected Layer의 input으로 계산함.  \n",
    "(11) 첫 번째 Fully Connected Layer에 sigmoid()함수를 이용해 계산된 결괏값을 통과시킴.  \n",
    "(12) PyTorch Module 중 인공 신경망 설계에 유용한 함수를 모아 놓은 torch.nn.functional 내에 정의된 비선형 함수는 sigmoid()를 이용해 세 번째 Fully Connected Layer의 input으로 계산함.  \n",
    "(13) 두 번째 Fully Connected Layer에 sigmoid()함수를 이용해 계산된 결괏값을 통과시킴.  \n",
    "(14) PyTorch Module 중 인공 신경망 설계에 유용한 함수를 모아 놓은 torch.nn.functional 내의 log.softmax()를 이용해 최종 Output을 계산. 0부터 9까지, 총 10가지 경우의 수 중 하나로 분류하는 일을 수행하기 때문에 softmax를 이용해 확률 값 게산. 일반적인 softmax 대신 log_softmax()를 이용하는 이유는 MLP 모델이 Back Propagation 알고리즘을 이용해 학습 진행 시 Loss 값에 대한 Gradient 값을 좀 더 원활하게 계산할 수 있으므로. (log 함수 그래프의 기울기가 부드럽게 변화하는 것을 상상해보면 됨!)  \n",
    "(15) 최종 계산된 값 반환"
   ]
  },
  {
   "cell_type": "markdown",
   "id": "330a7c38",
   "metadata": {},
   "source": [
    "### 7. Optimizer, Objective Function 설정하기"
   ]
  },
  {
   "cell_type": "code",
   "execution_count": 10,
   "id": "fff5b42a",
   "metadata": {},
   "outputs": [
    {
     "name": "stdout",
     "output_type": "stream",
     "text": [
      "Net(\n",
      "  (fc1): Linear(in_features=784, out_features=512, bias=True)\n",
      "  (fc2): Linear(in_features=512, out_features=256, bias=True)\n",
      "  (fc3): Linear(in_features=256, out_features=10, bias=True)\n",
      ")\n"
     ]
    }
   ],
   "source": [
    "model = Net().to(DEVICE)                                                      # (1)\n",
    "optimizer = torch.optim.SGD(model.parameters(), lr = 0.01, momentum = 0.5)    # (2)\n",
    "criterion = nn.CrossEntropyLoss()                                             # (3)\n",
    "\n",
    "print(model)"
   ]
  },
  {
   "cell_type": "markdown",
   "id": "48565636",
   "metadata": {},
   "source": [
    "(1) MLP 모델을 기존에 선정한 'DEVICE'에 할당 -> 'DEVICE' 장비를 이용해 MLP 모델을 완성하기 위해서!  \n",
    "(2) Back Propagation을 이용해 파라미터를 업데이트할 때 이용하는 Optimizer를 정의. 이 예제에서는 SGD 알고리즘을 이용하며 파라미터를 업데이트할 때 반영될 Learning Rate를 '0.01', Optimizer의 관성을 나타내는 momentum을 '0.5'로 설정.  \n",
    "(3) MLP 모델의 output 값과 계산될 Label 값은 Class를 표현하는 원-핫 인코딩 값. MLP 모델의 output 값과 원-핫 인코딩 값과의 Loss는 CrossEntropy를 이용해 계산하기 위해 criterion은 'nn.CrossEntropyLoss()'로 설정."
   ]
  },
  {
   "cell_type": "markdown",
   "id": "2233fd03",
   "metadata": {},
   "source": [
    "### 8. MLP 모델 학습을 진행하며 학습 데이터에 대한 모델 성능을 확인하는 함수 정의"
   ]
  },
  {
   "cell_type": "code",
   "execution_count": 21,
   "id": "6ca8c806",
   "metadata": {},
   "outputs": [],
   "source": [
    "def train(model, train_loader, optimizer, log_interval) :\n",
    "    model.train()                                                                              # (1)\n",
    "    for batch_idx, (image, label) in enumerate(train_loader) :                                 # (2)\n",
    "        image = image.to(DEVICE)                                                               # (3)\n",
    "        label = label.to(DEVICE)                                                               # (4)\n",
    "        optimizer.zero_grad()                                                                  # (5)\n",
    "        output = model(image)                                                                  # (6)\n",
    "        loss = criterion(output, label)                                                        # (7)\n",
    "        loss.backward()                                                                        # (8)\n",
    "        optimizer.step()                                                                       # (9)\n",
    "        \n",
    "        if batch_idx % log_interval == 0 :\n",
    "            print(\"Train Eppoch : {} [{}/{}({:.0f}%)]\\tTrain Loss : {:.6f}\".format(\n",
    "                Epoch, batch_idx * len(image), len(train_loader.dataset),\n",
    "                100. * batch_idx / len(train_loader), loss.item()))"
   ]
  },
  {
   "cell_type": "markdown",
   "id": "0b837331",
   "metadata": {},
   "source": [
    "기존에 정의한 이미지 데이터와 레이블 데이터를 이용해 MLP 모델을 학습하는 train 함수 정의하기  \n",
    "(1) 기존에 정의한 MLP 모델을 학습 상태로 지정.  \n",
    "(2) 기존에 정의한 'train_loader'에는 학습에 이용되는 이미지 데이터와 레이블 데이터가 Mini-batch 단위로 묶여 저장돼 있음. 해당 'train_loader'내에 Mini-Batch 단위로 저장된 데이터를 순서대로 이용해 MLP 모형 학습.  \n",
    "(3) Mini-Batch 내에 있는 이미지 데이터를 이용해 MLP 모델을 학습시키기 위해 기존에 정의한 장비에 할당.  \n",
    "(4) Mini-Batch 내에 있는 이미지 데이터와 매칭된 레이블 데이터도 기존에 정의한 장비에 할당.  \n",
    "(5) 기존에 정의한 장비에 이미지 데이터와 레이블 데이터를 할당한 경우, 과거에 이용한 Mini-Batch 내에 있는 이미지 데이터와 레이블 데이터를 바탕으로 계산된 Loss의 Gradient 값이 optimizer에 할당돼 있으므로 optimizer의 Gradient를 초기화함.  \n",
    "(6) 장비에 할당한 이미지 데이터를 MLP 모델의 Input으로 이용해 Output을 계산.  \n",
    "(7) 계산된 Output과 장비에 할당된 레이블 데이터를 기존에 정의한 CrossEntropy를 이용해 Loss 값 계산.  \n",
    "(8) Loss 값을 계산한 결과를 바탕으로 Back Propagation을 통해 계산된 Gradient 값을 각 파라미터에 할당.  \n",
    "(9) 각 파라미터에 할당된 Gradient값을 이용해 파라미터 값을 업데이트."
   ]
  },
  {
   "cell_type": "markdown",
   "id": "9cd0479a",
   "metadata": {},
   "source": [
    "### 9. 학습되는 과정 속에서 검증 데이터에 대한 모델 성능을 확인하는 함수 정의"
   ]
  },
  {
   "cell_type": "code",
   "execution_count": 25,
   "id": "2e3a6e91",
   "metadata": {},
   "outputs": [],
   "source": [
    "def evaluate(model, test_loader) :\n",
    "    model.eval()                                                                     # (1)\n",
    "    test_loss = 0                                                                    # (2)\n",
    "    correct = 0                                                                      # (3)\n",
    "    \n",
    "    with torch.no_grad() :                                                           # (4)\n",
    "        for image, label in test_loader :                                            # (5)\n",
    "            image = image.to(DEVICE)                                                 # (6)\n",
    "            label = label.to(DEVICE)                                                 # (7)\n",
    "            output = model(image)                                                    # (8)\n",
    "            test_loss += criterion(output, label).item()                             # (9)\n",
    "            prediction = output.max(1, keepdim = True)[1]                            # (10)\n",
    "            correct += prediction.eq(label.view_as(prediction)).sum().item()         # (11)\n",
    "            \n",
    "    test_loss /= len(test_loader.dataset)                                            # (12)\n",
    "    test_accuracy = 100. * correct / len(test_loader.dataset)                        # (13)\n",
    "    return test_loss, test_accuracy                                                  # (14)"
   ]
  },
  {
   "cell_type": "markdown",
   "id": "7cd9a2a6",
   "metadata": {},
   "source": [
    "(1) 학습 과정 또는 학습이 완료된 MLP 모델을 학습 상태가 아닌, 평가 상태로 지정.  \n",
    "(2) 기존에 정의한 'test_loader' 내의 데이터를 이용해 Loss 값을 계산하기 위해 'test_loss'를 0으로 임시 설정.  \n",
    "(3) 학습 과정 또는 학습이 완료된 MLP 모델이 올바른 Class로 분류한 경우를 세기 위해 correct = 0으로 임시 설정.  \n",
    "(4) MLP 모델을 평가하는 단계에서는 Gradient를 통해 파라미터 값이 업데이트되는 현상을 방지하기 위해 'torch.no.grad()' 메서드를 이용해 Gradient의 흐름을 억제.  \n",
    "(5) 기존에 정의한 'test_loader'내의 데이터로 mini-batch 단위로 저장돼 있음. Mini-Batch 내에 있는 이미지 데이터와 레이블 데이터에 반복문을 이용해 차례대로 접근.  \n",
    "(6) Mini-Batch 내에 있는 이미지 데이터를 이용해 MLP 모델을 검증하기 위해 기존에 정의한 장비에 할당.  \n",
    "(7) Mini-Batch 내에 있는 이미지 데이터와 매칭된 레이블 데이터도 기존에 정의한 장비에 할당.  \n",
    "(8) 장비에 할당한 이미지 데이터를 MLP 모델의 Input으로 Output을 계산.  \n",
    "(9) 계산된 Output과 장비에 할당된 레이블 데이터를 기존에 정의한 CrossEntropy를 이용해 Loss 값을 계산한 결괏값을 'test_loss'에 더해 업데이트.  \n",
    "(10) MLP 모델의 Output 값은 크기가 10인 벡터 값. 계산된 벡터 값 내 가장 큰 값인 위치에 대해 해당 위치에 대응하는 클래스로 예측했다고 판단.  \n",
    "(11) MLP 모델이 최종으로 예측한 클래스 값과 실제 레이블이 의미하는 클래스가 맞으면 correct에 더해 올바르게 예측한 횟수를 저장.  \n",
    "(12) 현재까지 계산된 'test_loss'의 값을 'test_loader'내에 존재하는 Mini-Batch 개수만큼 나눠 평균 Loss 값으로 계산.  \n",
    "(13) 'test_loader' 데이터 중 얼마나 맞췄는지를 계산해 정확도 계산.  \n",
    "(14) 계산된 'test_loss'값과 'test_accuracy'값을 반환.  "
   ]
  },
  {
   "cell_type": "markdown",
   "id": "6fa18b5d",
   "metadata": {},
   "source": [
    "### 10. MLP 학습을 실행하면서 Train, Test set의 Loss 및 Test set Accuracy 확인하기"
   ]
  },
  {
   "cell_type": "code",
   "execution_count": 26,
   "id": "1f173c93",
   "metadata": {},
   "outputs": [
    {
     "name": "stdout",
     "output_type": "stream",
     "text": [
      "Train Eppoch : 1 [0/60000(0%)]\tTrain Loss : 0.328932\n",
      "Train Eppoch : 1 [6400/60000(11%)]\tTrain Loss : 0.094827\n",
      "Train Eppoch : 1 [12800/60000(21%)]\tTrain Loss : 0.385518\n",
      "Train Eppoch : 1 [19200/60000(32%)]\tTrain Loss : 0.324488\n",
      "Train Eppoch : 1 [25600/60000(43%)]\tTrain Loss : 0.600698\n",
      "Train Eppoch : 1 [32000/60000(53%)]\tTrain Loss : 0.161923\n",
      "Train Eppoch : 1 [38400/60000(64%)]\tTrain Loss : 0.155005\n",
      "Train Eppoch : 1 [44800/60000(75%)]\tTrain Loss : 0.267721\n",
      "Train Eppoch : 1 [51200/60000(85%)]\tTrain Loss : 0.184284\n",
      "Train Eppoch : 1 [57600/60000(96%)]\tTrain Loss : 0.569933\n",
      "\n",
      "[EPOCH : 1], \tTest Loss : 0.0081, \tTest Accuracy : 92.51 %\n",
      "\n",
      "Train Eppoch : 2 [0/60000(0%)]\tTrain Loss : 0.287935\n",
      "Train Eppoch : 2 [6400/60000(11%)]\tTrain Loss : 0.378338\n",
      "Train Eppoch : 2 [12800/60000(21%)]\tTrain Loss : 0.242003\n",
      "Train Eppoch : 2 [19200/60000(32%)]\tTrain Loss : 0.253831\n",
      "Train Eppoch : 2 [25600/60000(43%)]\tTrain Loss : 0.141082\n",
      "Train Eppoch : 2 [32000/60000(53%)]\tTrain Loss : 0.369488\n",
      "Train Eppoch : 2 [38400/60000(64%)]\tTrain Loss : 0.164686\n",
      "Train Eppoch : 2 [44800/60000(75%)]\tTrain Loss : 0.156968\n",
      "Train Eppoch : 2 [51200/60000(85%)]\tTrain Loss : 0.380238\n",
      "Train Eppoch : 2 [57600/60000(96%)]\tTrain Loss : 0.272451\n",
      "\n",
      "[EPOCH : 2], \tTest Loss : 0.0081, \tTest Accuracy : 92.57 %\n",
      "\n",
      "Train Eppoch : 3 [0/60000(0%)]\tTrain Loss : 0.523032\n",
      "Train Eppoch : 3 [6400/60000(11%)]\tTrain Loss : 0.366873\n",
      "Train Eppoch : 3 [12800/60000(21%)]\tTrain Loss : 0.173882\n",
      "Train Eppoch : 3 [19200/60000(32%)]\tTrain Loss : 0.160589\n",
      "Train Eppoch : 3 [25600/60000(43%)]\tTrain Loss : 0.201832\n",
      "Train Eppoch : 3 [32000/60000(53%)]\tTrain Loss : 0.230085\n",
      "Train Eppoch : 3 [38400/60000(64%)]\tTrain Loss : 0.331915\n",
      "Train Eppoch : 3 [44800/60000(75%)]\tTrain Loss : 0.342995\n",
      "Train Eppoch : 3 [51200/60000(85%)]\tTrain Loss : 0.241375\n",
      "Train Eppoch : 3 [57600/60000(96%)]\tTrain Loss : 0.594350\n",
      "\n",
      "[EPOCH : 3], \tTest Loss : 0.0079, \tTest Accuracy : 92.69 %\n",
      "\n",
      "Train Eppoch : 4 [0/60000(0%)]\tTrain Loss : 0.231137\n",
      "Train Eppoch : 4 [6400/60000(11%)]\tTrain Loss : 0.328260\n",
      "Train Eppoch : 4 [12800/60000(21%)]\tTrain Loss : 0.418764\n",
      "Train Eppoch : 4 [19200/60000(32%)]\tTrain Loss : 0.637813\n",
      "Train Eppoch : 4 [25600/60000(43%)]\tTrain Loss : 0.450377\n",
      "Train Eppoch : 4 [32000/60000(53%)]\tTrain Loss : 0.251601\n",
      "Train Eppoch : 4 [38400/60000(64%)]\tTrain Loss : 0.163971\n",
      "Train Eppoch : 4 [44800/60000(75%)]\tTrain Loss : 0.195629\n",
      "Train Eppoch : 4 [51200/60000(85%)]\tTrain Loss : 0.313726\n",
      "Train Eppoch : 4 [57600/60000(96%)]\tTrain Loss : 0.330003\n",
      "\n",
      "[EPOCH : 4], \tTest Loss : 0.0079, \tTest Accuracy : 92.77 %\n",
      "\n",
      "Train Eppoch : 5 [0/60000(0%)]\tTrain Loss : 0.086508\n",
      "Train Eppoch : 5 [6400/60000(11%)]\tTrain Loss : 0.208466\n",
      "Train Eppoch : 5 [12800/60000(21%)]\tTrain Loss : 0.419392\n",
      "Train Eppoch : 5 [19200/60000(32%)]\tTrain Loss : 0.373736\n",
      "Train Eppoch : 5 [25600/60000(43%)]\tTrain Loss : 0.188152\n",
      "Train Eppoch : 5 [32000/60000(53%)]\tTrain Loss : 0.040074\n",
      "Train Eppoch : 5 [38400/60000(64%)]\tTrain Loss : 0.134346\n",
      "Train Eppoch : 5 [44800/60000(75%)]\tTrain Loss : 0.096864\n",
      "Train Eppoch : 5 [51200/60000(85%)]\tTrain Loss : 0.394920\n",
      "Train Eppoch : 5 [57600/60000(96%)]\tTrain Loss : 0.402830\n",
      "\n",
      "[EPOCH : 5], \tTest Loss : 0.0076, \tTest Accuracy : 93.05 %\n",
      "\n",
      "Train Eppoch : 6 [0/60000(0%)]\tTrain Loss : 0.454075\n",
      "Train Eppoch : 6 [6400/60000(11%)]\tTrain Loss : 0.350813\n",
      "Train Eppoch : 6 [12800/60000(21%)]\tTrain Loss : 0.150923\n",
      "Train Eppoch : 6 [19200/60000(32%)]\tTrain Loss : 0.092625\n",
      "Train Eppoch : 6 [25600/60000(43%)]\tTrain Loss : 0.207893\n",
      "Train Eppoch : 6 [32000/60000(53%)]\tTrain Loss : 0.287287\n",
      "Train Eppoch : 6 [38400/60000(64%)]\tTrain Loss : 0.114937\n",
      "Train Eppoch : 6 [44800/60000(75%)]\tTrain Loss : 0.342888\n",
      "Train Eppoch : 6 [51200/60000(85%)]\tTrain Loss : 0.301372\n",
      "Train Eppoch : 6 [57600/60000(96%)]\tTrain Loss : 0.288230\n",
      "\n",
      "[EPOCH : 6], \tTest Loss : 0.0075, \tTest Accuracy : 93.02 %\n",
      "\n",
      "Train Eppoch : 7 [0/60000(0%)]\tTrain Loss : 0.220619\n",
      "Train Eppoch : 7 [6400/60000(11%)]\tTrain Loss : 0.162668\n",
      "Train Eppoch : 7 [12800/60000(21%)]\tTrain Loss : 0.162055\n",
      "Train Eppoch : 7 [19200/60000(32%)]\tTrain Loss : 0.280854\n",
      "Train Eppoch : 7 [25600/60000(43%)]\tTrain Loss : 0.131997\n",
      "Train Eppoch : 7 [32000/60000(53%)]\tTrain Loss : 0.310253\n",
      "Train Eppoch : 7 [38400/60000(64%)]\tTrain Loss : 0.084589\n",
      "Train Eppoch : 7 [44800/60000(75%)]\tTrain Loss : 0.123527\n",
      "Train Eppoch : 7 [51200/60000(85%)]\tTrain Loss : 0.218202\n",
      "Train Eppoch : 7 [57600/60000(96%)]\tTrain Loss : 0.243731\n",
      "\n",
      "[EPOCH : 7], \tTest Loss : 0.0074, \tTest Accuracy : 93.22 %\n",
      "\n",
      "Train Eppoch : 8 [0/60000(0%)]\tTrain Loss : 0.327328\n",
      "Train Eppoch : 8 [6400/60000(11%)]\tTrain Loss : 0.083464\n",
      "Train Eppoch : 8 [12800/60000(21%)]\tTrain Loss : 0.061454\n",
      "Train Eppoch : 8 [19200/60000(32%)]\tTrain Loss : 0.426399\n",
      "Train Eppoch : 8 [25600/60000(43%)]\tTrain Loss : 0.052116\n",
      "Train Eppoch : 8 [32000/60000(53%)]\tTrain Loss : 0.222422\n",
      "Train Eppoch : 8 [38400/60000(64%)]\tTrain Loss : 0.048962\n",
      "Train Eppoch : 8 [44800/60000(75%)]\tTrain Loss : 0.275454\n",
      "Train Eppoch : 8 [51200/60000(85%)]\tTrain Loss : 0.232418\n",
      "Train Eppoch : 8 [57600/60000(96%)]\tTrain Loss : 0.085005\n",
      "\n",
      "[EPOCH : 8], \tTest Loss : 0.0072, \tTest Accuracy : 93.30 %\n",
      "\n",
      "Train Eppoch : 9 [0/60000(0%)]\tTrain Loss : 0.090942\n",
      "Train Eppoch : 9 [6400/60000(11%)]\tTrain Loss : 0.235033\n",
      "Train Eppoch : 9 [12800/60000(21%)]\tTrain Loss : 0.029487\n",
      "Train Eppoch : 9 [19200/60000(32%)]\tTrain Loss : 0.129590\n",
      "Train Eppoch : 9 [25600/60000(43%)]\tTrain Loss : 0.261743\n",
      "Train Eppoch : 9 [32000/60000(53%)]\tTrain Loss : 0.095691\n",
      "Train Eppoch : 9 [38400/60000(64%)]\tTrain Loss : 0.128145\n",
      "Train Eppoch : 9 [44800/60000(75%)]\tTrain Loss : 0.393132\n",
      "Train Eppoch : 9 [51200/60000(85%)]\tTrain Loss : 0.140571\n",
      "Train Eppoch : 9 [57600/60000(96%)]\tTrain Loss : 0.461260\n",
      "\n",
      "[EPOCH : 9], \tTest Loss : 0.0071, \tTest Accuracy : 93.25 %\n",
      "\n",
      "Train Eppoch : 10 [0/60000(0%)]\tTrain Loss : 0.280830\n",
      "Train Eppoch : 10 [6400/60000(11%)]\tTrain Loss : 0.126075\n",
      "Train Eppoch : 10 [12800/60000(21%)]\tTrain Loss : 0.135900\n",
      "Train Eppoch : 10 [19200/60000(32%)]\tTrain Loss : 0.189618\n",
      "Train Eppoch : 10 [25600/60000(43%)]\tTrain Loss : 0.303516\n",
      "Train Eppoch : 10 [32000/60000(53%)]\tTrain Loss : 0.248853\n",
      "Train Eppoch : 10 [38400/60000(64%)]\tTrain Loss : 0.222102\n",
      "Train Eppoch : 10 [44800/60000(75%)]\tTrain Loss : 0.389014\n",
      "Train Eppoch : 10 [51200/60000(85%)]\tTrain Loss : 0.428088\n",
      "Train Eppoch : 10 [57600/60000(96%)]\tTrain Loss : 0.220130\n",
      "\n",
      "[EPOCH : 10], \tTest Loss : 0.0070, \tTest Accuracy : 93.36 %\n",
      "\n"
     ]
    }
   ],
   "source": [
    "for Epoch in range(1, EPOCHS + 1) :\n",
    "    train(model, train_loader, optimizer ,log_interval = 200)    # (1)\n",
    "    test_loss, test_accuracy = evaluate(model, test_loader)      # (2)\n",
    "    print(\"\\n[EPOCH : {}], \\tTest Loss : {:.4f}, \\tTest Accuracy : {:.2f} %\\n\".format(Epoch, test_loss, test_accuracy))"
   ]
  },
  {
   "cell_type": "markdown",
   "id": "d25389ab",
   "metadata": {},
   "source": [
    "(1) 정의한 train 함수를 실행. model은 기존에 정의한 MLP 모델, train_loader는 학습 데이터, optimizer는 SGD, log_interval은 학습이 진행되면서 Mini-Batch의 Index를 이용해 과정을 모니터링할 수 있도록 출력하는 것을 의미.  \n",
    "(2) 각 Epoch 별로 출력되는 Loss 값과 accuracy 값 계산. "
   ]
  }
 ],
 "metadata": {
  "kernelspec": {
   "display_name": "Python 3",
   "language": "python",
   "name": "python3"
  },
  "language_info": {
   "codemirror_mode": {
    "name": "ipython",
    "version": 3
   },
   "file_extension": ".py",
   "mimetype": "text/x-python",
   "name": "python",
   "nbconvert_exporter": "python",
   "pygments_lexer": "ipython3",
   "version": "3.7.10"
  }
 },
 "nbformat": 4,
 "nbformat_minor": 5
}
